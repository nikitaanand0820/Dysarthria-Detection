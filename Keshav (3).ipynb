{
 "cells": [
  {
   "cell_type": "code",
   "execution_count": 59,
   "id": "290540c0-37fe-412b-93aa-2ed3e0f30b94",
   "metadata": {},
   "outputs": [
    {
     "name": "stdout",
     "output_type": "stream",
     "text": [
      "❌ No GPU detected. Using CPU.\n",
      "🔧 Mixed Precision set to FP16\n"
     ]
    }
   ],
   "source": [
    "import os\n",
    "import numpy as np\n",
    "import librosa\n",
    "import librosa.effects\n",
    "import tensorflow as tf\n",
    "from tensorflow.keras.models import Sequential\n",
    "from tensorflow.keras.layers import Dense, Dropout, BatchNormalization\n",
    "from tensorflow.keras.optimizers import Adam\n",
    "from tensorflow.keras import mixed_precision\n",
    "from tensorflow.keras.callbacks import EarlyStopping\n",
    "from sklearn.model_selection import train_test_split\n",
    "from sklearn.preprocessing import LabelEncoder\n",
    "import kagglehub\n",
    "import joblib\n",
    "import matplotlib.pyplot as plt\n",
    "\n",
    "# Check Apple M1 GPU (Metal) availability\n",
    "physical_devices = tf.config.list_physical_devices('GPU')\n",
    "if physical_devices:\n",
    "    try:\n",
    "        tf.config.experimental.set_memory_growth(physical_devices[0], True)\n",
    "        print(\"✅ GPU Enabled for Apple Silicon (via Metal)\")\n",
    "    except RuntimeError as e:\n",
    "        print(e)\n",
    "else:\n",
    "    print(\"❌ No GPU detected. Using CPU.\")\n",
    "\n",
    "# Enable Mixed Precision Training (FP16) if supported\n",
    "try:\n",
    "    policy = mixed_precision.Policy('mixed_float16')\n",
    "    mixed_precision.set_global_policy(policy)\n",
    "    print(\"🔧 Mixed Precision set to FP16\")\n",
    "except:\n",
    "    print(\"⚠️ mixed_float16 not supported. Falling back to float32.\")\n",
    "    policy = mixed_precision.Policy('float32')\n",
    "    mixed_precision.set_global_policy(policy)"
   ]
  },
  {
   "cell_type": "code",
   "execution_count": 67,
   "id": "35c95365-be5d-4547-bedc-1292a8423ca0",
   "metadata": {},
   "outputs": [
    {
     "name": "stdout",
     "output_type": "stream",
     "text": [
      "Warning: Looks like you're using an outdated `kagglehub` version, please consider updating (latest version: 0.3.11)\n",
      "Dysarthric Speech Path: /Users/manankumarsingh/.cache/kagglehub/datasets/aryashah2k/noise-reduced-uaspeech-dysarthria-dataset/versions/1/noisereduced-uaspeech\n",
      "Control Speech Path: /Users/manankumarsingh/.cache/kagglehub/datasets/aryashah2k/noise-reduced-uaspeech-dysarthria-dataset/versions/1/noisereduced-uaspeech-control\n"
     ]
    }
   ],
   "source": [
    "# Download dataset from Kaggle\n",
    "path = kagglehub.dataset_download(\"aryashah2k/noise-reduced-uaspeech-dysarthria-dataset\")\n",
    "dataset_root = path  # Use direct path, avoiding extra \"versions/1/\"\n",
    "\n",
    "# Define folders for Dysarthric & Control data\n",
    "uaspeech_path = os.path.join(dataset_root, \"noisereduced-uaspeech\")          # Dysarthric speech\n",
    "control_path = os.path.join(dataset_root, \"noisereduced-uaspeech-control\")  # Control group\n",
    "\n",
    "print(\"Dysarthric Speech Path:\", uaspeech_path)\n",
    "print(\"Control Speech Path:\", control_path)"
   ]
  },
  {
   "cell_type": "code",
   "execution_count": 69,
   "id": "60049dee-9875-4f39-90ee-0095393638b4",
   "metadata": {},
   "outputs": [],
   "source": [
    "# Audio & Feature Extraction Parameters\n",
    "SAMPLE_RATE = 44100\n",
    "N_MFCC = 13\n",
    "\n",
    "# Category Mapping\n",
    "severity_mapping = {\n",
    "    'Dysarthric': 1,\n",
    "    'Control': 0\n",
    "}\n"
   ]
  },
  {
   "cell_type": "code",
   "execution_count": 93,
   "id": "060c0bc2-2cbc-45b8-99d8-b9b13222d8c2",
   "metadata": {},
   "outputs": [],
   "source": [
    "def extract_features(file_path):\n",
    "    \"\"\"\n",
    "    Extract MFCC and Mel Spectrogram features from an audio file,\n",
    "    applying gentler augmentation (time-stretch, pitch shift, noise).\n",
    "    \"\"\"\n",
    "    y, sr = librosa.load(file_path, sr=SAMPLE_RATE)\n",
    "    \n",
    "    # Random Time Stretching (30% chance, smaller range)\n",
    "    if np.random.rand() < 0.3:\n",
    "        rate = np.random.uniform(0.9, 1.1)\n",
    "        y = librosa.effects.time_stretch(y, rate=rate)\n",
    "\n",
    "    # Random Pitch Shift (30% chance, ±1 semitone)\n",
    "    if np.random.rand() < 0.3:\n",
    "        semitones = np.random.uniform(-1, 1)\n",
    "        y = librosa.effects.pitch_shift(y, sr=sr, n_steps=semitones)\n",
    "\n",
    "    # Random Noise Injection (30% chance, smaller noise variance)\n",
    "    if np.random.rand() < 0.3:\n",
    "        noise = np.random.normal(0, 0.003, y.shape)\n",
    "        y = y + noise\n",
    "\n",
    "    # MFCC Extraction\n",
    "    mfccs = librosa.feature.mfcc(y=y, sr=sr, n_mfcc=N_MFCC)\n",
    "\n",
    "    # Mel Spectrogram Extraction\n",
    "    mel_spectrogram = librosa.feature.melspectrogram(y=y, sr=sr)\n",
    "    mel_spectrogram_db = librosa.power_to_db(mel_spectrogram, ref=np.max)\n",
    "    \n",
    "    # Average across time dimension\n",
    "    mfccs_mean = np.mean(mfccs, axis=1)\n",
    "    mel_spectrogram_mean = np.mean(mel_spectrogram_db, axis=1)\n",
    "\n",
    "    # Concatenate MFCC & Mel Spectrogram features\n",
    "    features = np.hstack((mfccs_mean, mel_spectrogram_mean)).astype(np.float32)\n",
    "    return features\n",
    "\n",
    "def collect_audio_files(root_folder, label, features_list, labels):\n",
    "    file_paths = []\n",
    "    for r, _, files in os.walk(root_folder):\n",
    "        for file in files:\n",
    "            if file.endswith(\".wav\"):\n",
    "                file_paths.append(os.path.join(r, file))\n",
    "\n",
    "    for file_path in tqdm(file_paths, desc=f\"Extracting {label}\"):\n",
    "        feats = extract_features(file_path)\n",
    "        features_list.append(feats)\n",
    "        labels.append(severity_mapping[label])\n",
    "\n",
    "    print(f\"Processed {len(file_paths)} {label} speech files.\")"
   ]
  },
  {
   "cell_type": "code",
   "execution_count": 95,
   "id": "70d9e11c-c0c2-44b9-8722-b1eb5a642914",
   "metadata": {},
   "outputs": [
    {
     "name": "stdout",
     "output_type": "stream",
     "text": [
      "Processing Dysarthric Speech Files...\n"
     ]
    },
    {
     "name": "stderr",
     "output_type": "stream",
     "text": [
      "Extracting Dysarthric: 100%|████████████| 73675/73675 [1:09:56<00:00, 17.56it/s]\n"
     ]
    },
    {
     "name": "stdout",
     "output_type": "stream",
     "text": [
      "Processed 73675 Dysarthric speech files.\n",
      "\n",
      "Processing Control Speech Files...\n"
     ]
    },
    {
     "name": "stderr",
     "output_type": "stream",
     "text": [
      "Extracting Control: 100%|█████████████████| 69615/69615 [27:29<00:00, 42.20it/s]"
     ]
    },
    {
     "name": "stdout",
     "output_type": "stream",
     "text": [
      "Processed 69615 Control speech files.\n",
      "\n",
      "Total samples: 143290\n"
     ]
    },
    {
     "name": "stderr",
     "output_type": "stream",
     "text": [
      "\n"
     ]
    }
   ],
   "source": [
    "from tqdm import tqdm\n",
    "features_list = []\n",
    "labels = []\n",
    "\n",
    "print(\"Processing Dysarthric Speech Files...\")\n",
    "collect_audio_files(uaspeech_path, \"Dysarthric\", features_list, labels)\n",
    "\n",
    "print(\"\\nProcessing Control Speech Files...\")\n",
    "collect_audio_files(control_path, \"Control\", features_list, labels)\n",
    "\n",
    "X = np.array(features_list, dtype=np.float32)\n",
    "y = np.array(labels, dtype=np.int32)\n",
    "\n",
    "if len(X) == 0 or len(y) == 0:\n",
    "    raise ValueError(\"Feature extraction failed! Check audio file paths.\")\n",
    "\n",
    "# Optional Label Encoding\n",
    "encoder = LabelEncoder()\n",
    "y = encoder.fit_transform(y)\n",
    "\n",
    "print(\"\\nTotal samples:\", len(X))"
   ]
  },
  {
   "cell_type": "code",
   "execution_count": 97,
   "id": "4eb0ff4d-88b7-4ba3-aaa2-55d61bacd0c3",
   "metadata": {},
   "outputs": [],
   "source": [
    "X_train, X_test, y_train, y_test = train_test_split(\n",
    "    X, y, test_size=0.2, random_state=42, stratify=y\n",
    ")\n",
    "\n",
    "# Normalize by the global max from training set\n",
    "train_max = np.max(X_train)\n",
    "X_train = X_train / train_max\n",
    "X_test = X_test / train_max\n",
    "\n",
    "train_dataset = tf.data.Dataset.from_tensor_slices((X_train, y_train)) \\\n",
    "                               .batch(32) \\\n",
    "                               .prefetch(tf.data.AUTOTUNE)\n",
    "test_dataset = tf.data.Dataset.from_tensor_slices((X_test, y_test)) \\\n",
    "                              .batch(32) \\\n",
    "                              .prefetch(tf.data.AUTOTUNE)"
   ]
  },
  {
   "cell_type": "code",
   "execution_count": 99,
   "id": "9d2cfda5-41e7-472e-b5d1-f7d40ddbd534",
   "metadata": {},
   "outputs": [
    {
     "name": "stdout",
     "output_type": "stream",
     "text": [
      "Model: \"sequential\"\n",
      "_________________________________________________________________\n",
      " Layer (type)                Output Shape              Param #   \n",
      "=================================================================\n",
      " dense (Dense)               (None, 256)               36352     \n",
      "                                                                 \n",
      " batch_normalization (BatchN  (None, 256)              1024      \n",
      " ormalization)                                                   \n",
      "                                                                 \n",
      " dropout (Dropout)           (None, 256)               0         \n",
      "                                                                 \n",
      " dense_1 (Dense)             (None, 128)               32896     \n",
      "                                                                 \n",
      " batch_normalization_1 (Batc  (None, 128)              512       \n",
      " hNormalization)                                                 \n",
      "                                                                 \n",
      " dropout_1 (Dropout)         (None, 128)               0         \n",
      "                                                                 \n",
      " dense_2 (Dense)             (None, 64)                8256      \n",
      "                                                                 \n",
      " batch_normalization_2 (Batc  (None, 64)               256       \n",
      " hNormalization)                                                 \n",
      "                                                                 \n",
      " dropout_2 (Dropout)         (None, 64)                0         \n",
      "                                                                 \n",
      " dense_3 (Dense)             (None, 2)                 130       \n",
      "                                                                 \n",
      "=================================================================\n",
      "Total params: 79,426\n",
      "Trainable params: 78,530\n",
      "Non-trainable params: 896\n",
      "_________________________________________________________________\n"
     ]
    }
   ],
   "source": [
    "model = Sequential([\n",
    "    Dense(256, activation='relu', input_shape=(X_train.shape[1],)),\n",
    "    BatchNormalization(),\n",
    "    Dropout(0.3),\n",
    "\n",
    "    Dense(128, activation='relu'),\n",
    "    BatchNormalization(),\n",
    "    Dropout(0.2),\n",
    "\n",
    "    Dense(64, activation='relu'),\n",
    "    BatchNormalization(),\n",
    "    Dropout(0.2),\n",
    "\n",
    "    Dense(len(severity_mapping), activation='softmax', dtype=tf.float32)\n",
    "])\n",
    "\n",
    "model.summary()"
   ]
  },
  {
   "cell_type": "code",
   "execution_count": 101,
   "id": "7c381a2c-2226-434f-9a99-c4ffa5d29092",
   "metadata": {},
   "outputs": [
    {
     "name": "stderr",
     "output_type": "stream",
     "text": [
      "WARNING:absl:At this time, the v2.11+ optimizer `tf.keras.optimizers.Adam` runs slowly on M1/M2 Macs, please use the legacy Keras optimizer instead, located at `tf.keras.optimizers.legacy.Adam`.\n",
      "WARNING:absl:There is a known slowdown when using v2.11+ Keras optimizers on M1/M2 Macs. Falling back to the legacy Keras optimizer, i.e., `tf.keras.optimizers.legacy.Adam`.\n"
     ]
    }
   ],
   "source": [
    "model.compile(\n",
    "    optimizer=Adam(learning_rate=0.0001),\n",
    "    loss='sparse_categorical_crossentropy',\n",
    "    metrics=['accuracy']\n",
    ")"
   ]
  },
  {
   "cell_type": "code",
   "execution_count": 103,
   "id": "cc9fdacc-395f-449d-b655-a7af415177cf",
   "metadata": {},
   "outputs": [
    {
     "name": "stdout",
     "output_type": "stream",
     "text": [
      "Epoch 1/50\n"
     ]
    },
    {
     "name": "stderr",
     "output_type": "stream",
     "text": [
      "2025-04-24 10:50:42.392744: I tensorflow/core/common_runtime/executor.cc:1197] [/device:CPU:0] (DEBUG INFO) Executor start aborting (this does not indicate an error and you can ignore this message): INVALID_ARGUMENT: You must feed a value for placeholder tensor 'Placeholder/_1' with dtype int64 and shape [114632]\n",
      "\t [[{{node Placeholder/_1}}]]\n"
     ]
    },
    {
     "name": "stdout",
     "output_type": "stream",
     "text": [
      "  36/3583 [..............................] - ETA: 5s - loss: 0.8314 - accuracy: 0.6597   "
     ]
    },
    {
     "name": "stderr",
     "output_type": "stream",
     "text": [
      "2025-04-24 10:50:42.798093: W tensorflow/tsl/platform/profile_utils/cpu_utils.cc:128] Failed to get CPU frequency: 0 Hz\n"
     ]
    },
    {
     "name": "stdout",
     "output_type": "stream",
     "text": [
      "3554/3583 [============================>.] - ETA: 0s - loss: 0.4240 - accuracy: 0.8193"
     ]
    },
    {
     "name": "stderr",
     "output_type": "stream",
     "text": [
      "2025-04-24 10:50:47.784144: I tensorflow/core/common_runtime/executor.cc:1197] [/device:CPU:0] (DEBUG INFO) Executor start aborting (this does not indicate an error and you can ignore this message): INVALID_ARGUMENT: You must feed a value for placeholder tensor 'Placeholder/_1' with dtype int64 and shape [28658]\n",
      "\t [[{{node Placeholder/_1}}]]\n"
     ]
    },
    {
     "name": "stdout",
     "output_type": "stream",
     "text": [
      "3583/3583 [==============================] - 6s 1ms/step - loss: 0.4238 - accuracy: 0.8194 - val_loss: 0.3498 - val_accuracy: 0.8438\n",
      "Epoch 2/50\n",
      "3583/3583 [==============================] - 5s 1ms/step - loss: 0.3292 - accuracy: 0.8600 - val_loss: 0.3684 - val_accuracy: 0.8475\n",
      "Epoch 3/50\n",
      "3583/3583 [==============================] - 5s 1ms/step - loss: 0.3106 - accuracy: 0.8706 - val_loss: 0.3623 - val_accuracy: 0.8299\n",
      "Epoch 4/50\n",
      "3583/3583 [==============================] - 5s 1ms/step - loss: 0.2997 - accuracy: 0.8753 - val_loss: 0.3305 - val_accuracy: 0.8514\n",
      "Epoch 5/50\n",
      "3583/3583 [==============================] - 5s 1ms/step - loss: 0.3012 - accuracy: 0.8743 - val_loss: 0.2801 - val_accuracy: 0.8800\n",
      "Epoch 6/50\n",
      "3583/3583 [==============================] - 5s 1ms/step - loss: 0.2943 - accuracy: 0.8778 - val_loss: 0.3165 - val_accuracy: 0.8604\n",
      "Epoch 7/50\n",
      "3583/3583 [==============================] - 5s 1ms/step - loss: 0.2760 - accuracy: 0.8862 - val_loss: 0.3181 - val_accuracy: 0.8491\n",
      "Epoch 8/50\n",
      "3583/3583 [==============================] - 5s 1ms/step - loss: 0.2724 - accuracy: 0.8892 - val_loss: 0.2314 - val_accuracy: 0.9041\n",
      "Epoch 9/50\n",
      "3583/3583 [==============================] - 5s 1ms/step - loss: 0.2727 - accuracy: 0.8888 - val_loss: 0.4440 - val_accuracy: 0.7998\n",
      "Epoch 10/50\n",
      "3583/3583 [==============================] - 5s 1ms/step - loss: 0.2716 - accuracy: 0.8893 - val_loss: 0.3632 - val_accuracy: 0.8236\n",
      "Epoch 11/50\n",
      "3583/3583 [==============================] - 5s 1ms/step - loss: 0.2702 - accuracy: 0.8903 - val_loss: 0.4934 - val_accuracy: 0.7818\n",
      "Epoch 12/50\n",
      "3583/3583 [==============================] - 5s 1ms/step - loss: 0.2671 - accuracy: 0.8922 - val_loss: 1.2493 - val_accuracy: 0.6158\n",
      "Epoch 13/50\n",
      "3583/3583 [==============================] - 5s 1ms/step - loss: 0.2629 - accuracy: 0.8932 - val_loss: 0.4567 - val_accuracy: 0.8002\n"
     ]
    }
   ],
   "source": [
    "from tensorflow.keras.callbacks import EarlyStopping\n",
    "\n",
    "early_stopping = EarlyStopping(\n",
    "    monitor='val_loss',\n",
    "    patience=5,\n",
    "    restore_best_weights=True\n",
    ")\n",
    "\n",
    "history = model.fit(\n",
    "    train_dataset,\n",
    "    validation_data=test_dataset,\n",
    "    epochs=50,\n",
    "    # Set 'verbose=1' (the default) for standard Keras console logs\n",
    "    # or 'verbose=0' for no logs at all.\n",
    "    verbose=1,  \n",
    "    callbacks=[early_stopping]\n",
    ")"
   ]
  },
  {
   "cell_type": "code",
   "execution_count": 104,
   "id": "db94a217-bb7c-4cce-944c-547ca1cb57a2",
   "metadata": {},
   "outputs": [
    {
     "name": "stdout",
     "output_type": "stream",
     "text": [
      "896/896 [==============================] - 0s 403us/step - loss: 0.2314 - accuracy: 0.9041\n",
      "Test Accuracy: 90.41%\n"
     ]
    }
   ],
   "source": [
    "model.save(\"dnn_dysarthria_model_m1.keras\")\n",
    "\n",
    "test_loss, test_accuracy = model.evaluate(test_dataset)\n",
    "print(\"Test Accuracy: {:.2f}%\".format(test_accuracy * 100))"
   ]
  },
  {
   "cell_type": "code",
   "execution_count": 105,
   "id": "fbeeae52-8f3f-4f57-9b33-63ccc6fed0c9",
   "metadata": {},
   "outputs": [
    {
     "name": "stdout",
     "output_type": "stream",
     "text": [
      "896/896 [==============================] - 0s 381us/step\n",
      "\n",
      "Classification Report:\n",
      "               precision    recall  f1-score   support\n",
      "\n",
      "           0       0.91      0.89      0.90     13923\n",
      "           1       0.90      0.92      0.91     14735\n",
      "\n",
      "    accuracy                           0.90     28658\n",
      "   macro avg       0.90      0.90      0.90     28658\n",
      "weighted avg       0.90      0.90      0.90     28658\n",
      "\n",
      "Confusion Matrix:\n",
      " [[12376  1547]\n",
      " [ 1201 13534]]\n"
     ]
    },
    {
     "data": {
      "image/png": "[encoded data removed]",
      "text/plain": [
       "<Figure size 600x600 with 2 Axes>"
      ]
     },
     "metadata": {},
     "output_type": "display_data"
    }
   ],
   "source": [
    "y_pred = np.argmax(model.predict(X_test), axis=1)\n",
    "\n",
    "from sklearn.metrics import classification_report, confusion_matrix\n",
    "print(\"\\nClassification Report:\\n\", classification_report(y_test, y_pred))\n",
    "\n",
    "conf_mat = confusion_matrix(y_test, y_pred)\n",
    "print(\"Confusion Matrix:\\n\", conf_mat)\n",
    "import itertools\n",
    "from sklearn.metrics import confusion_matrix, classification_report\n",
    "\n",
    "# Assuming y_test and y_pred are already available:\n",
    "cm = confusion_matrix(y_test, y_pred)\n",
    "\n",
    "# Define your class labels in the same order used by the model\n",
    "class_labels = ['Very Low', 'Low', 'Medium', 'High']\n",
    "\n",
    "plt.figure(figsize=(6, 6))\n",
    "plt.imshow(cm, interpolation='nearest', cmap=plt.cm.Blues)\n",
    "plt.title('Confusion Matrix', fontsize=14)\n",
    "plt.colorbar(fraction=0.046, pad=0.04)\n",
    "\n",
    "tick_marks = np.arange(len(class_labels))\n",
    "plt.xticks(tick_marks, class_labels, rotation=45)\n",
    "plt.yticks(tick_marks, class_labels)\n",
    "\n",
    "# Annotate each cell with its count\n",
    "thresh = cm.max() / 2.0\n",
    "for i, j in itertools.product(range(cm.shape[0]), range(cm.shape[1])):\n",
    "    plt.text(j, i, f'{cm[i, j]}',\n",
    "             horizontalalignment='center',\n",
    "             color='white' if cm[i, j] > thresh else 'black')\n",
    "\n",
    "plt.ylabel('True Label')\n",
    "plt.xlabel('Predicted Label')\n",
    "plt.tight_layout()\n",
    "plt.show()"
   ]
  },
  {
   "cell_type": "code",
   "execution_count": 106,
   "id": "8488f722-ea5f-4cc5-9906-a52c14abe4f6",
   "metadata": {},
   "outputs": [
    {
     "data": {
      "image/png": "[encoded data removed]",
      "text/plain": [
       "<Figure size 800x400 with 1 Axes>"
      ]
     },
     "metadata": {},
     "output_type": "display_data"
    }
   ],
   "source": [
    "plt.figure(figsize=(8, 4))\n",
    "plt.plot(history.history['accuracy'], label='Train Accuracy')\n",
    "plt.plot(history.history['val_accuracy'], label='Validation Accuracy')\n",
    "plt.xlabel(\"Epochs\")\n",
    "plt.ylabel(\"Accuracy\")\n",
    "plt.title(\"Training with Augmentation & Early Stopping\")\n",
    "plt.legend()\n",
    "plt.show()"
   ]
  },
  {
   "cell_type": "code",
   "execution_count": 107,
   "id": "650186d8-675a-4182-a706-ae2c00d21d8b",
   "metadata": {},
   "outputs": [
    {
     "name": "stdout",
     "output_type": "stream",
     "text": [
      "No GPU found, using CPU.\n",
      "Mixed Precision set to FP16\n"
     ]
    }
   ],
   "source": [
    "import os\n",
    "import numpy as np\n",
    "import librosa\n",
    "import librosa.effects\n",
    "import tensorflow as tf\n",
    "from tensorflow.keras.models import Sequential\n",
    "from tensorflow.keras.layers import Dense, Dropout, BatchNormalization\n",
    "from tensorflow.keras.optimizers.legacy import Adam\n",
    "from tensorflow.keras.callbacks import EarlyStopping\n",
    "from tensorflow.keras import mixed_precision\n",
    "\n",
    "from sklearn.model_selection import train_test_split\n",
    "from sklearn.preprocessing import LabelEncoder\n",
    "from sklearn.metrics import classification_report, confusion_matrix\n",
    "\n",
    "import matplotlib.pyplot as plt\n",
    "from tqdm import tqdm  # For progress bars (pip install tqdm if needed)\n",
    "\n",
    "# Check GPU availability (useful on Apple Silicon or other GPU-enabled environments)\n",
    "gpus = tf.config.list_physical_devices('GPU')\n",
    "if gpus:\n",
    "    try:\n",
    "        tf.config.experimental.set_memory_growth(gpus[0], True)\n",
    "        print(\"GPU Enabled\")\n",
    "    except RuntimeError as e:\n",
    "        print(e)\n",
    "else:\n",
    "    print(\"No GPU found, using CPU.\")\n",
    "\n",
    "# (Optional) Mixed Precision\n",
    "try:\n",
    "    policy = mixed_precision.Policy('mixed_float16')\n",
    "    mixed_precision.set_global_policy(policy)\n",
    "    print(\"Mixed Precision set to FP16\")\n",
    "except:\n",
    "    print(\"mixed_float16 not supported, falling back to float32.\")\n",
    "    policy = mixed_precision.Policy('float32')\n",
    "    mixed_precision.set_global_policy(policy)"
   ]
  },
  {
   "cell_type": "code",
   "execution_count": 108,
   "id": "cbb396b7-2391-4b03-bd99-783568162c1a",
   "metadata": {},
   "outputs": [],
   "source": [
    "# Suppose the dataset root folder is:\n",
    "# UA_Speech/\n",
    "#    HIGH/\n",
    "#    LOW/\n",
    "#    MEDIUM/\n",
    "#    VERY LOW/\n",
    "\n",
    "dataset_root = \"Documents/Kashvi/UA_Speech\"  # Update with the actual path if needed\n",
    "\n",
    "# We'll define severity folder mapping\n",
    "severity_folders = {\n",
    "    \"VERY LOW\": 0,\n",
    "    \"LOW\": 1,\n",
    "    \"MEDIUM\": 2,\n",
    "    \"HIGH\": 3\n",
    "}"
   ]
  },
  {
   "cell_type": "code",
   "execution_count": 109,
   "id": "94bd92cc-78d6-49c0-bef1-26bb1fc66339",
   "metadata": {},
   "outputs": [],
   "source": [
    "# Audio & Feature Extraction\n",
    "SAMPLE_RATE = 44100\n",
    "N_MFCC = 13\n",
    "\n",
    "# Adjust these if needed\n",
    "TIME_STRETCH_PROB = 0.3\n",
    "PITCH_SHIFT_PROB = 0.3\n",
    "NOISE_PROB = 0.3"
   ]
  },
  {
   "cell_type": "code",
   "execution_count": 110,
   "id": "20d45411-ef27-4d55-9152-3deb2366e053",
   "metadata": {},
   "outputs": [],
   "source": [
    "def extract_features(file_path):\n",
    "    \"\"\"\n",
    "    Extracts MFCC and Mel Spectrogram features from an audio file.\n",
    "    Includes optional (mild) data augmentation.\n",
    "    \"\"\"\n",
    "    y, sr = librosa.load(file_path, sr=SAMPLE_RATE)\n",
    "    \n",
    "    # (a) Random Time Stretching\n",
    "    if np.random.rand() < TIME_STRETCH_PROB:\n",
    "        rate = np.random.uniform(0.9, 1.1)\n",
    "        y = librosa.effects.time_stretch(y, rate=rate)\n",
    "    \n",
    "    # (b) Random Pitch Shift\n",
    "    if np.random.rand() < PITCH_SHIFT_PROB:\n",
    "        semitones = np.random.uniform(-1, 1)\n",
    "        y = librosa.effects.pitch_shift(y, sr=sr, n_steps=semitones)\n",
    "    \n",
    "    # (c) Random Noise Injection\n",
    "    if np.random.rand() < NOISE_PROB:\n",
    "        noise = np.random.normal(0, 0.003, y.shape)\n",
    "        y = y + noise\n",
    "\n",
    "    # MFCC\n",
    "    mfccs = librosa.feature.mfcc(y=y, sr=sr, n_mfcc=N_MFCC)\n",
    "    # Mel Spectrogram\n",
    "    mel = librosa.feature.melspectrogram(y=y, sr=sr)\n",
    "    mel_db = librosa.power_to_db(mel, ref=np.max)\n",
    "    \n",
    "    mfcc_mean = np.mean(mfccs, axis=1)\n",
    "    mel_mean = np.mean(mel_db, axis=1)\n",
    "    \n",
    "    features = np.hstack((mfcc_mean, mel_mean)).astype(np.float32)\n",
    "    return features"
   ]
  },
  {
   "cell_type": "code",
   "execution_count": 111,
   "id": "e0eba2b9-90ff-49d9-a663-1b12952a966d",
   "metadata": {},
   "outputs": [],
   "source": [
    "def collect_data_from_folders(root_path, folder_mapping):\n",
    "    \"\"\"\n",
    "    Scans each folder in `folder_mapping` and loads .wav files.\n",
    "    Returns features (X) and labels (y).\n",
    "    folder_mapping is a dict like {\"VERY LOW\": 0, \"LOW\": 1, \"MEDIUM\": 2, \"HIGH\": 3}.\n",
    "    \"\"\"\n",
    "    X_list = []\n",
    "    y_list = []\n",
    "    \n",
    "    for folder_name, label_value in folder_mapping.items():\n",
    "        folder_path = os.path.join(root_path, folder_name)\n",
    "        if not os.path.exists(folder_path):\n",
    "            print(f\"Warning: {folder_path} does not exist. Skipping.\")\n",
    "            continue\n",
    "        \n",
    "        # Gather all wav files\n",
    "        wav_files = [\n",
    "            f for f in os.listdir(folder_path) \n",
    "            if f.endswith(\".wav\")\n",
    "        ]\n",
    "        print(f\"Found {len(wav_files)} wav files in {folder_name} folder.\")\n",
    "        \n",
    "        for wav_file in tqdm(wav_files, desc=f\"Processing {folder_name}\"):\n",
    "            file_path = os.path.join(folder_path, wav_file)\n",
    "            feats = extract_features(file_path)\n",
    "            X_list.append(feats)\n",
    "            y_list.append(label_value)\n",
    "    \n",
    "    return np.array(X_list), np.array(y_list)"
   ]
  },
  {
   "cell_type": "code",
   "execution_count": null,
   "id": "3cdc434a-9ce6-4f8d-a949-e8722f5c912d",
   "metadata": {},
   "outputs": [
    {
     "name": "stdout",
     "output_type": "stream",
     "text": [
      "Found 3825 wav files in VERY LOW folder.\n"
     ]
    },
    {
     "name": "stderr",
     "output_type": "stream",
     "text": [
      "Processing VERY LOW: 100%|██████████████████| 3825/3825 [02:06<00:00, 30.25it/s]\n"
     ]
    },
    {
     "name": "stdout",
     "output_type": "stream",
     "text": [
      "Found 2281 wav files in LOW folder.\n"
     ]
    },
    {
     "name": "stderr",
     "output_type": "stream",
     "text": [
      "Processing LOW: 100%|███████████████████████| 2281/2281 [01:25<00:00, 26.58it/s]\n"
     ]
    },
    {
     "name": "stdout",
     "output_type": "stream",
     "text": [
      "Found 2295 wav files in MEDIUM folder.\n"
     ]
    },
    {
     "name": "stderr",
     "output_type": "stream",
     "text": [
      "Processing MEDIUM: 100%|████████████████████| 2295/2295 [01:27<00:00, 26.37it/s]\n"
     ]
    },
    {
     "name": "stdout",
     "output_type": "stream",
     "text": [
      "Found 3036 wav files in HIGH folder.\n"
     ]
    },
    {
     "name": "stderr",
     "output_type": "stream",
     "text": [
      "Processing HIGH:  83%|██████████████████▏   | 2515/3036 [02:26<01:06,  7.80it/s]"
     ]
    }
   ],
   "source": [
    "# 1) After collecting X,y:\n",
    "X, y = collect_data_from_folders(dataset_root, severity_folders)\n",
    "\n",
    "# ensure we actually have consistent feature vectors\n",
    "if X.ndim != 2:\n",
    "    raise ValueError(f\"Expected X to be 2D [n_samples, feat_dim], got {X.shape}\")\n",
    "if y.ndim != 1:\n",
    "    raise ValueError(f\"Expected y to be 1D [n_samples], got {y.shape}\")\n",
    "\n",
    "# cast to the right dtype\n",
    "X = X.astype(np.float32)\n",
    "y = y.astype(np.int32)\n",
    "\n",
    "print(\"X dtype:\", X.dtype, \"  shape:\", X.shape)\n",
    "print(\"y dtype:\", y.dtype, \"  shape:\", y.shape)\n",
    "\n",
    "# 2) train/test split\n",
    "X_train, X_test, y_train, y_test = train_test_split(\n",
    "    X, y,\n",
    "    test_size=0.20,\n",
    "    random_state=42,\n",
    "    stratify=y\n",
    ")\n",
    "\n",
    "# 3) normalize by training‐set max\n",
    "train_max = X_train.max()\n",
    "X_train  = X_train / train_max\n",
    "X_test   = X_test  / train_max\n",
    "\n",
    "# 4) build tf.data pipelines\n",
    "batch_size = 32\n",
    "\n",
    "train_dataset = (\n",
    "    tf.data.Dataset\n",
    "      .from_tensor_slices((X_train, y_train))\n",
    "      .shuffle(len(X_train))\n",
    "      .batch(batch_size)\n",
    "      .prefetch(tf.data.AUTOTUNE)\n",
    ")\n",
    "\n",
    "test_dataset = (\n",
    "    tf.data.Dataset\n",
    "      .from_tensor_slices((X_test, y_test))\n",
    "      .batch(batch_size)\n",
    "      .prefetch(tf.data.AUTOTUNE)\n",
    ")\n",
    "\n",
    "print(\"✅ train_dataset element_spec:\", train_dataset.element_spec)\n",
    "print(\"✅ test_dataset  element_spec:\", test_dataset.element_spec)\n"
   ]
  },
  {
   "cell_type": "code",
   "execution_count": null,
   "id": "384177fa-8c0c-42a0-a87c-24ee76306822",
   "metadata": {},
   "outputs": [],
   "source": [
    "model = Sequential([\n",
    "    Dense(256, activation='relu', input_shape=(X_train.shape[1],)),\n",
    "    BatchNormalization(),\n",
    "    Dropout(0.3),\n",
    "\n",
    "    Dense(128, activation='relu'),\n",
    "    BatchNormalization(),\n",
    "    Dropout(0.2),\n",
    "\n",
    "    Dense(64, activation='relu'),\n",
    "    BatchNormalization(),\n",
    "    Dropout(0.2),\n",
    "\n",
    "    # Output for 4 classes\n",
    "    Dense(4, activation='softmax', dtype=tf.float32)\n",
    "])\n",
    "\n",
    "model.compile(\n",
    "    optimizer=Adam(learning_rate=0.0001),\n",
    "    loss='sparse_categorical_crossentropy',\n",
    "    metrics=['accuracy']\n",
    ")\n",
    "\n",
    "model.summary()"
   ]
  },
  {
   "cell_type": "code",
   "execution_count": null,
   "id": "8edcbc6e-228e-41c0-bdbd-4e18da336fc9",
   "metadata": {},
   "outputs": [],
   "source": [
    "early_stopping = EarlyStopping(\n",
    "    monitor='val_loss',\n",
    "    patience=5,\n",
    "    restore_best_weights=True\n",
    ")\n",
    "\n",
    "history = model.fit(\n",
    "    train_dataset,\n",
    "    validation_data=test_dataset,\n",
    "    epochs=50,\n",
    "    callbacks=[early_stopping],\n",
    "    verbose=1\n",
    ")"
   ]
  },
  {
   "cell_type": "code",
   "execution_count": null,
   "id": "e624c93e-1a48-4b1b-8f41-7851ff40df57",
   "metadata": {},
   "outputs": [],
   "source": [
    "model.save(\"speech_severity_classifier.h5\")\n",
    "\n",
    "test_loss, test_accuracy = model.evaluate(test_dataset)\n",
    "print(f\"Test Accuracy: {test_accuracy * 100:.2f}%\")"
   ]
  },
  {
   "cell_type": "code",
   "execution_count": null,
   "id": "f902ff2b-bbca-4900-a1ef-4438ae99b4cd",
   "metadata": {},
   "outputs": [],
   "source": [
    "y_pred = np.argmax(model.predict(X_test), axis=1)\n",
    "# Assume y_test and y_pred are already defined\n",
    "cm = confusion_matrix(y_test, y_pred)\n",
    "\n",
    "# Define class names in correct order\n",
    "class_labels = ['Very Low', 'Low', 'Medium', 'High']\n",
    "\n",
    "# Plot the confusion matrix in color\n",
    "plt.figure(figsize=(6, 6))\n",
    "plt.imshow(cm, interpolation='nearest', cmap=plt.cm.Blues)\n",
    "plt.title('Confusion Matrix', fontsize=14)\n",
    "plt.colorbar(fraction=0.046, pad=0.04)\n",
    "tick_marks = np.arange(len(class_labels))\n",
    "plt.xticks(tick_marks, class_labels, rotation=45)\n",
    "plt.yticks(tick_marks, class_labels)\n",
    "\n",
    "# Annotate each cell with the numeric value\n",
    "thresh = cm.max() / 2.\n",
    "for i, j in itertools.product(range(cm.shape[0]), range(cm.shape[1])):\n",
    "    plt.text(j, i, format(cm[i, j], 'd'),\n",
    "             horizontalalignment=\"center\",\n",
    "             color=\"white\" if cm[i, j] > thresh else \"black\")\n",
    "\n",
    "plt.ylabel('True Label')\n",
    "plt.xlabel('Predicted Label')\n",
    "plt.tight_layout()\n",
    "plt.show()"
   ]
  },
  {
   "cell_type": "code",
   "execution_count": null,
   "id": "0ed7b83d-1ac8-41c3-afb5-49d981d2624a",
   "metadata": {},
   "outputs": [],
   "source": [
    "plt.figure(figsize=(8, 4))\n",
    "plt.plot(history.history['accuracy'], label='Train Accuracy')\n",
    "plt.plot(history.history['val_accuracy'], label='Validation Accuracy')\n",
    "plt.xlabel(\"Epochs\")\n",
    "plt.ylabel(\"Accuracy\")\n",
    "plt.title(\"Four-Class Severity Classification\")\n",
    "plt.legend()\n",
    "plt.show()"
   ]
  },
  {
   "cell_type": "code",
   "execution_count": null,
   "id": "ee493bfa-b005-4448-ae56-274c6a3469cf",
   "metadata": {},
   "outputs": [],
   "source": [
    "import numpy as np\n",
    "import librosa\n",
    "import librosa.display\n",
    "import matplotlib.pyplot as plt\n",
    "\n",
    "# Monkey‐patch for librosa compatibility\n",
    "np.complex = complex\n",
    "np.float   = float\n",
    "\n",
    "# Audio params\n",
    "SAMPLE_RATE = 44100\n",
    "N_MELS      = 128\n",
    "\n",
    "# 1) Give your exact file path here:\n",
    "file_path = \"Documents/Kashvi/UA_Speech/HIGH/M12_B3_UW83_M3.wav\"\n",
    "\n",
    "# 2) (Optional) sanity check\n",
    "if not os.path.exists(file_path):\n",
    "    raise FileNotFoundError(f\"File not found: {file_path}\")\n",
    "\n",
    "# 3) Load and compute mel spectrogram\n",
    "y, sr   = librosa.load(file_path, sr=SAMPLE_RATE)\n",
    "mel     = librosa.feature.melspectrogram(y=y, sr=sr, n_mels=N_MELS)\n",
    "mel_db  = librosa.power_to_db(mel, ref=np.max)\n",
    "mel_db  = np.clip(mel_db, -80, 0)    # clip to [-80,0] dB\n",
    "\n",
    "# 4) Plot\n",
    "plt.figure(figsize=(10, 4))\n",
    "librosa.display.specshow(\n",
    "    mel_db, \n",
    "    sr=sr, \n",
    "    x_axis='time', \n",
    "    y_axis='mel'\n",
    ")\n",
    "plt.title(f\"Mel Spectrogram\\n{os.path.basename(file_path)}\")\n",
    "plt.colorbar(format='%+2.0f dB')\n",
    "plt.tight_layout()\n",
    "plt.show()\n"
   ]
  },
  {
   "cell_type": "code",
   "execution_count": null,
   "id": "be6ec84a-d86b-4f60-a60b-bcab040cf91f",
   "metadata": {},
   "outputs": [],
   "source": []
  },
  {
   "cell_type": "code",
   "execution_count": null,
   "id": "a44336a3-fef4-4458-8b19-633a439ca62b",
   "metadata": {},
   "outputs": [],
   "source": []
  }
 ],
 "metadata": {
  "kernelspec": {
   "display_name": "Python [conda env:Multimodal]",
   "language": "python",
   "name": "conda-env-Multimodal-py"
  },
  "language_info": {
   "codemirror_mode": {
    "name": "ipython",
    "version": 3
   },
   "file_extension": ".py",
   "mimetype": "text/x-python",
   "name": "python",
   "nbconvert_exporter": "python",
   "pygments_lexer": "ipython3",
   "version": "3.8.18"
  }
 },
 "nbformat": 4,
 "nbformat_minor": 5
}
