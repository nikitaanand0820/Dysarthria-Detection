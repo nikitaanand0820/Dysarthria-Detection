{
 "cells": [
  {
   "cell_type": "code",
   "execution_count": 6,
   "id": "290540c0-37fe-412b-93aa-2ed3e0f30b94",
   "metadata": {},
   "outputs": [
    {
     "name": "stderr",
     "output_type": "stream",
     "text": [
      "/opt/anaconda3/envs/style-transfer/lib/python3.8/site-packages/tqdm/auto.py:21: TqdmWarning: IProgress not found. Please update jupyter and ipywidgets. See https://ipywidgets.readthedocs.io/en/stable/user_install.html\n",
      "  from .autonotebook import tqdm as notebook_tqdm\n"
     ]
    },
    {
     "name": "stdout",
     "output_type": "stream",
     "text": [
      "❌ No GPU detected. Using CPU.\n",
      "WARNING:tensorflow:Mixed precision compatibility check (mixed_float16): WARNING\n",
      "The dtype policy mixed_float16 may run slowly because this machine does not have a GPU. Only Nvidia GPUs with compute capability of at least 7.0 run quickly with mixed_float16.\n",
      "If you will use compatible GPU(s) not attached to this host, e.g. by running a multi-worker model, you can ignore this warning. This message will only be logged once\n",
      "🔧 Mixed Precision set to FP16\n"
     ]
    }
   ],
   "source": [
    "import os\n",
    "import numpy as np\n",
    "import librosa\n",
    "import librosa.effects\n",
    "import tensorflow as tf\n",
    "from tensorflow.keras.models import Sequential\n",
    "from tensorflow.keras.layers import Dense, Dropout, BatchNormalization\n",
    "from tensorflow.keras.optimizers import Adam\n",
    "from tensorflow.keras import mixed_precision\n",
    "from tensorflow.keras.callbacks import EarlyStopping\n",
    "from sklearn.model_selection import train_test_split\n",
    "from sklearn.preprocessing import LabelEncoder\n",
    "import kagglehub\n",
    "import joblib\n",
    "import matplotlib.pyplot as plt\n",
    "\n",
    "# Check Apple M1 GPU (Metal) availability\n",
    "physical_devices = tf.config.list_physical_devices('GPU')\n",
    "if physical_devices:\n",
    "    try:\n",
    "        tf.config.experimental.set_memory_growth(physical_devices[0], True)\n",
    "        print(\"✅ GPU Enabled for Apple Silicon (via Metal)\")\n",
    "    except RuntimeError as e:\n",
    "        print(e)\n",
    "else:\n",
    "    print(\"❌ No GPU detected. Using CPU.\")\n",
    "\n",
    "# Enable Mixed Precision Training (FP16) if supported\n",
    "try:\n",
    "    policy = mixed_precision.Policy('mixed_float16')\n",
    "    mixed_precision.set_global_policy(policy)\n",
    "    print(\"🔧 Mixed Precision set to FP16\")\n",
    "except:\n",
    "    print(\"⚠️ mixed_float16 not supported. Falling back to float32.\")\n",
    "    policy = mixed_precision.Policy('float32')\n",
    "    mixed_precision.set_global_policy(policy)"
   ]
  },
  {
   "cell_type": "code",
   "execution_count": 7,
   "id": "35c95365-be5d-4547-bedc-1292a8423ca0",
   "metadata": {},
   "outputs": [
    {
     "name": "stdout",
     "output_type": "stream",
     "text": [
      "Warning: Looks like you're using an outdated `kagglehub` version, please consider updating (latest version: 0.3.10)\n",
      "Downloading from https://www.kaggle.com/api/v1/datasets/download/aryashah2k/noise-reduced-uaspeech-dysarthria-dataset?dataset_version_number=1...\n"
     ]
    },
    {
     "name": "stderr",
     "output_type": "stream",
     "text": [
      "100%|██████████████████████████████████████| 8.01G/8.01G [12:01<00:00, 11.9MB/s]"
     ]
    },
    {
     "name": "stdout",
     "output_type": "stream",
     "text": [
      "Extracting model files...\n"
     ]
    },
    {
     "name": "stderr",
     "output_type": "stream",
     "text": [
      "\n"
     ]
    },
    {
     "name": "stdout",
     "output_type": "stream",
     "text": [
      "Dysarthric Speech Path: /Users/manankumarsingh/.cache/kagglehub/datasets/aryashah2k/noise-reduced-uaspeech-dysarthria-dataset/versions/1/noisereduced-uaspeech\n",
      "Control Speech Path: /Users/manankumarsingh/.cache/kagglehub/datasets/aryashah2k/noise-reduced-uaspeech-dysarthria-dataset/versions/1/noisereduced-uaspeech-control\n"
     ]
    }
   ],
   "source": [
    "# Download dataset from Kaggle\n",
    "path = kagglehub.dataset_download(\"aryashah2k/noise-reduced-uaspeech-dysarthria-dataset\")\n",
    "dataset_root = path  # Use direct path, avoiding extra \"versions/1/\"\n",
    "\n",
    "# Define folders for Dysarthric & Control data\n",
    "uaspeech_path = os.path.join(dataset_root, \"noisereduced-uaspeech\")          # Dysarthric speech\n",
    "control_path = os.path.join(dataset_root, \"noisereduced-uaspeech-control\")  # Control group\n",
    "\n",
    "print(\"Dysarthric Speech Path:\", uaspeech_path)\n",
    "print(\"Control Speech Path:\", control_path)"
   ]
  },
  {
   "cell_type": "code",
   "execution_count": 8,
   "id": "60049dee-9875-4f39-90ee-0095393638b4",
   "metadata": {},
   "outputs": [],
   "source": [
    "# Audio & Feature Extraction Parameters\n",
    "SAMPLE_RATE = 44100\n",
    "N_MFCC = 13\n",
    "\n",
    "# Category Mapping\n",
    "severity_mapping = {\n",
    "    'Dysarthric': 1,\n",
    "    'Control': 0\n",
    "}\n"
   ]
  },
  {
   "cell_type": "code",
   "execution_count": 42,
   "id": "060c0bc2-2cbc-45b8-99d8-b9b13222d8c2",
   "metadata": {},
   "outputs": [],
   "source": [
    "def extract_features(file_path):\n",
    "    \"\"\"\n",
    "    Extract MFCC and Mel Spectrogram features from an audio file,\n",
    "    applying gentler augmentation (time-stretch, pitch shift, noise).\n",
    "    \"\"\"\n",
    "    y, sr = librosa.load(file_path, sr=SAMPLE_RATE)\n",
    "    \n",
    "    # Random Time Stretching (30% chance, smaller range)\n",
    "    if np.random.rand() < 0.3:\n",
    "        rate = np.random.uniform(0.9, 1.1)\n",
    "        y = librosa.effects.time_stretch(y, rate=rate)\n",
    "\n",
    "    # Random Pitch Shift (30% chance, ±1 semitone)\n",
    "    if np.random.rand() < 0.3:\n",
    "        semitones = np.random.uniform(-1, 1)\n",
    "        y = librosa.effects.pitch_shift(y, sr=sr, n_steps=semitones)\n",
    "\n",
    "    # Random Noise Injection (30% chance, smaller noise variance)\n",
    "    if np.random.rand() < 0.3:\n",
    "        noise = np.random.normal(0, 0.003, y.shape)\n",
    "        y = y + noise\n",
    "\n",
    "    # MFCC Extraction\n",
    "    mfccs = librosa.feature.mfcc(y=y, sr=sr, n_mfcc=N_MFCC)\n",
    "\n",
    "    # Mel Spectrogram Extraction\n",
    "    mel_spectrogram = librosa.feature.melspectrogram(y=y, sr=sr)\n",
    "    mel_spectrogram_db = librosa.power_to_db(mel_spectrogram, ref=np.max)\n",
    "    \n",
    "    # Average across time dimension\n",
    "    mfccs_mean = np.mean(mfccs, axis=1)\n",
    "    mel_spectrogram_mean = np.mean(mel_spectrogram_db, axis=1)\n",
    "\n",
    "    # Concatenate MFCC & Mel Spectrogram features\n",
    "    features = np.hstack((mfccs_mean, mel_spectrogram_mean)).astype(np.float32)\n",
    "    return features\n",
    "\n",
    "def collect_audio_files(root_folder, label, features_list, labels):\n",
    "    file_paths = []\n",
    "    for r, _, files in os.walk(root_folder):\n",
    "        for file in files:\n",
    "            if file.endswith(\".wav\"):\n",
    "                file_paths.append(os.path.join(r, file))\n",
    "\n",
    "    for file_path in file_paths:\n",
    "        feats = extract_features(file_path)\n",
    "        features_list.append(feats)\n",
    "        labels.append(severity_mapping[label])\n",
    "\n",
    "    print(f\"Processed {len(file_paths)} {label} speech files.\")"
   ]
  },
  {
   "cell_type": "code",
   "execution_count": 43,
   "id": "70d9e11c-c0c2-44b9-8722-b1eb5a642914",
   "metadata": {},
   "outputs": [
    {
     "name": "stdout",
     "output_type": "stream",
     "text": [
      "Processing Dysarthric Speech Files...\n",
      "Processed 73675 Dysarthric speech files.\n",
      "\n",
      "Processing Control Speech Files...\n",
      "Processed 69615 Control speech files.\n",
      "\n",
      "Total samples: 143290\n"
     ]
    }
   ],
   "source": [
    "from tqdm import tqdm\n",
    "features_list = []\n",
    "labels = []\n",
    "\n",
    "print(\"Processing Dysarthric Speech Files...\")\n",
    "collect_audio_files(uaspeech_path, \"Dysarthric\", features_list, labels)\n",
    "\n",
    "print(\"\\nProcessing Control Speech Files...\")\n",
    "collect_audio_files(control_path, \"Control\", features_list, labels)\n",
    "\n",
    "X = np.array(features_list, dtype=np.float32)\n",
    "y = np.array(labels, dtype=np.int32)\n",
    "\n",
    "if len(X) == 0 or len(y) == 0:\n",
    "    raise ValueError(\"Feature extraction failed! Check audio file paths.\")\n",
    "\n",
    "# Optional Label Encoding\n",
    "encoder = LabelEncoder()\n",
    "y = encoder.fit_transform(y)\n",
    "\n",
    "print(\"\\nTotal samples:\", len(X))"
   ]
  },
  {
   "cell_type": "code",
   "execution_count": 44,
   "id": "4eb0ff4d-88b7-4ba3-aaa2-55d61bacd0c3",
   "metadata": {},
   "outputs": [],
   "source": [
    "X_train, X_test, y_train, y_test = train_test_split(\n",
    "    X, y, test_size=0.2, random_state=42, stratify=y\n",
    ")\n",
    "\n",
    "# Normalize by the global max from training set\n",
    "train_max = np.max(X_train)\n",
    "X_train = X_train / train_max\n",
    "X_test = X_test / train_max\n",
    "\n",
    "train_dataset = tf.data.Dataset.from_tensor_slices((X_train, y_train)) \\\n",
    "                               .batch(32) \\\n",
    "                               .prefetch(tf.data.AUTOTUNE)\n",
    "test_dataset = tf.data.Dataset.from_tensor_slices((X_test, y_test)) \\\n",
    "                              .batch(32) \\\n",
    "                              .prefetch(tf.data.AUTOTUNE)"
   ]
  },
  {
   "cell_type": "code",
   "execution_count": 45,
   "id": "9d2cfda5-41e7-472e-b5d1-f7d40ddbd534",
   "metadata": {},
   "outputs": [
    {
     "name": "stdout",
     "output_type": "stream",
     "text": [
      "Model: \"sequential_2\"\n",
      "_________________________________________________________________\n",
      " Layer (type)                Output Shape              Param #   \n",
      "=================================================================\n",
      " dense_8 (Dense)             (None, 256)               36352     \n",
      "                                                                 \n",
      " batch_normalization_6 (Bat  (None, 256)               1024      \n",
      " chNormalization)                                                \n",
      "                                                                 \n",
      " dropout_6 (Dropout)         (None, 256)               0         \n",
      "                                                                 \n",
      " dense_9 (Dense)             (None, 128)               32896     \n",
      "                                                                 \n",
      " batch_normalization_7 (Bat  (None, 128)               512       \n",
      " chNormalization)                                                \n",
      "                                                                 \n",
      " dropout_7 (Dropout)         (None, 128)               0         \n",
      "                                                                 \n",
      " dense_10 (Dense)            (None, 64)                8256      \n",
      "                                                                 \n",
      " batch_normalization_8 (Bat  (None, 64)                256       \n",
      " chNormalization)                                                \n",
      "                                                                 \n",
      " dropout_8 (Dropout)         (None, 64)                0         \n",
      "                                                                 \n",
      " dense_11 (Dense)            (None, 2)                 130       \n",
      "                                                                 \n",
      "=================================================================\n",
      "Total params: 79426 (310.26 KB)\n",
      "Trainable params: 78530 (306.76 KB)\n",
      "Non-trainable params: 896 (3.50 KB)\n",
      "_________________________________________________________________\n"
     ]
    }
   ],
   "source": [
    "model = Sequential([\n",
    "    Dense(256, activation='relu', input_shape=(X_train.shape[1],)),\n",
    "    BatchNormalization(),\n",
    "    Dropout(0.3),\n",
    "\n",
    "    Dense(128, activation='relu'),\n",
    "    BatchNormalization(),\n",
    "    Dropout(0.2),\n",
    "\n",
    "    Dense(64, activation='relu'),\n",
    "    BatchNormalization(),\n",
    "    Dropout(0.2),\n",
    "\n",
    "    Dense(len(severity_mapping), activation='softmax', dtype=tf.float32)\n",
    "])\n",
    "\n",
    "model.summary()"
   ]
  },
  {
   "cell_type": "code",
   "execution_count": 46,
   "id": "7c381a2c-2226-434f-9a99-c4ffa5d29092",
   "metadata": {},
   "outputs": [
    {
     "name": "stderr",
     "output_type": "stream",
     "text": [
      "WARNING:absl:At this time, the v2.11+ optimizer `tf.keras.optimizers.Adam` runs slowly on M1/M2 Macs, please use the legacy Keras optimizer instead, located at `tf.keras.optimizers.legacy.Adam`.\n",
      "WARNING:absl:There is a known slowdown when using v2.11+ Keras optimizers on M1/M2 Macs. Falling back to the legacy Keras optimizer, i.e., `tf.keras.optimizers.legacy.Adam`.\n"
     ]
    }
   ],
   "source": [
    "model.compile(\n",
    "    optimizer=Adam(learning_rate=0.0001),\n",
    "    loss='sparse_categorical_crossentropy',\n",
    "    metrics=['accuracy']\n",
    ")"
   ]
  },
  {
   "cell_type": "code",
   "execution_count": 47,
   "id": "cc9fdacc-395f-449d-b655-a7af415177cf",
   "metadata": {},
   "outputs": [
    {
     "name": "stdout",
     "output_type": "stream",
     "text": [
      "Epoch 1/50\n",
      "3583/3583 [==============================] - 6s 1ms/step - loss: 0.4332 - accuracy: 0.8100 - val_loss: 0.3183 - val_accuracy: 0.8611\n",
      "Epoch 2/50\n",
      "3583/3583 [==============================] - 5s 1ms/step - loss: 0.3396 - accuracy: 0.8550 - val_loss: 0.3009 - val_accuracy: 0.8760\n",
      "Epoch 3/50\n",
      "3583/3583 [==============================] - 5s 1ms/step - loss: 0.3096 - accuracy: 0.8689 - val_loss: 0.2728 - val_accuracy: 0.8909\n",
      "Epoch 4/50\n",
      "3583/3583 [==============================] - 5s 1ms/step - loss: 0.3222 - accuracy: 0.8632 - val_loss: 0.4238 - val_accuracy: 0.8079\n",
      "Epoch 5/50\n",
      "3583/3583 [==============================] - 5s 1ms/step - loss: 0.3144 - accuracy: 0.8685 - val_loss: 0.2696 - val_accuracy: 0.8878\n",
      "Epoch 6/50\n",
      "3583/3583 [==============================] - 5s 1ms/step - loss: 0.2972 - accuracy: 0.8766 - val_loss: 0.2945 - val_accuracy: 0.8753\n",
      "Epoch 7/50\n",
      "3583/3583 [==============================] - 5s 1ms/step - loss: 0.2995 - accuracy: 0.8754 - val_loss: 0.3483 - val_accuracy: 0.8539\n",
      "Epoch 8/50\n",
      "3583/3583 [==============================] - 5s 1ms/step - loss: 0.2979 - accuracy: 0.8764 - val_loss: 0.2675 - val_accuracy: 0.8869\n",
      "Epoch 9/50\n",
      "3583/3583 [==============================] - 5s 1ms/step - loss: 0.2864 - accuracy: 0.8822 - val_loss: 0.2705 - val_accuracy: 0.8850\n",
      "Epoch 10/50\n",
      "3583/3583 [==============================] - 5s 1ms/step - loss: 0.2817 - accuracy: 0.8838 - val_loss: 0.3178 - val_accuracy: 0.8624\n",
      "Epoch 11/50\n",
      "3583/3583 [==============================] - 5s 1ms/step - loss: 0.2842 - accuracy: 0.8818 - val_loss: 0.3508 - val_accuracy: 0.8462\n",
      "Epoch 12/50\n",
      "3583/3583 [==============================] - 5s 1ms/step - loss: 0.2793 - accuracy: 0.8845 - val_loss: 0.2903 - val_accuracy: 0.8794\n",
      "Epoch 13/50\n",
      "3583/3583 [==============================] - 5s 1ms/step - loss: 0.2805 - accuracy: 0.8839 - val_loss: 0.2715 - val_accuracy: 0.8844\n"
     ]
    }
   ],
   "source": [
    "from tensorflow.keras.callbacks import EarlyStopping\n",
    "\n",
    "early_stopping = EarlyStopping(\n",
    "    monitor='val_loss',\n",
    "    patience=5,\n",
    "    restore_best_weights=True\n",
    ")\n",
    "\n",
    "history = model.fit(\n",
    "    train_dataset,\n",
    "    validation_data=test_dataset,\n",
    "    epochs=50,\n",
    "    # Set 'verbose=1' (the default) for standard Keras console logs\n",
    "    # or 'verbose=0' for no logs at all.\n",
    "    verbose=1,  \n",
    "    callbacks=[early_stopping]\n",
    ")"
   ]
  },
  {
   "cell_type": "code",
   "execution_count": 48,
   "id": "db94a217-bb7c-4cce-944c-547ca1cb57a2",
   "metadata": {},
   "outputs": [
    {
     "name": "stdout",
     "output_type": "stream",
     "text": [
      "896/896 [==============================] - 0s 444us/step - loss: 0.2675 - accuracy: 0.8869\n",
      "Test Accuracy: 88.69%\n"
     ]
    }
   ],
   "source": [
    "model.save(\"dnn_dysarthria_model_m1.keras\")\n",
    "\n",
    "test_loss, test_accuracy = model.evaluate(test_dataset)\n",
    "print(\"Test Accuracy: {:.2f}%\".format(test_accuracy * 100))"
   ]
  },
  {
   "cell_type": "code",
   "execution_count": 49,
   "id": "fbeeae52-8f3f-4f57-9b33-63ccc6fed0c9",
   "metadata": {},
   "outputs": [
    {
     "name": "stdout",
     "output_type": "stream",
     "text": [
      "896/896 [==============================] - 0s 446us/step\n",
      "\n",
      "Classification Report:\n",
      "               precision    recall  f1-score   support\n",
      "\n",
      "           0       0.91      0.85      0.88     13923\n",
      "           1       0.86      0.92      0.89     14735\n",
      "\n",
      "    accuracy                           0.89     28658\n",
      "   macro avg       0.89      0.89      0.89     28658\n",
      "weighted avg       0.89      0.89      0.89     28658\n",
      "\n",
      "Confusion Matrix:\n",
      " [[11792  2131]\n",
      " [ 1110 13625]]\n"
     ]
    }
   ],
   "source": [
    "y_pred = np.argmax(model.predict(X_test), axis=1)\n",
    "\n",
    "from sklearn.metrics import classification_report, confusion_matrix\n",
    "print(\"\\nClassification Report:\\n\", classification_report(y_test, y_pred))\n",
    "\n",
    "conf_mat = confusion_matrix(y_test, y_pred)\n",
    "print(\"Confusion Matrix:\\n\", conf_mat)"
   ]
  },
  {
   "cell_type": "code",
   "execution_count": 50,
   "id": "8488f722-ea5f-4cc5-9906-a52c14abe4f6",
   "metadata": {},
   "outputs": [
    {
     "data": {
      "image/png": "[encoded data removed]",
      "text/plain": [
       "<Figure size 800x400 with 1 Axes>"
      ]
     },
     "metadata": {},
     "output_type": "display_data"
    }
   ],
   "source": [
    "plt.figure(figsize=(8, 4))\n",
    "plt.plot(history.history['accuracy'], label='Train Accuracy')\n",
    "plt.plot(history.history['val_accuracy'], label='Validation Accuracy')\n",
    "plt.xlabel(\"Epochs\")\n",
    "plt.ylabel(\"Accuracy\")\n",
    "plt.title(\"Training with Augmentation & Early Stopping\")\n",
    "plt.legend()\n",
    "plt.show()"
   ]
  },
  {
   "cell_type": "code",
   "execution_count": 10,
   "id": "650186d8-675a-4182-a706-ae2c00d21d8b",
   "metadata": {},
   "outputs": [
    {
     "name": "stdout",
     "output_type": "stream",
     "text": [
      "No GPU found, using CPU.\n",
      "Mixed Precision set to FP16\n"
     ]
    }
   ],
   "source": [
    "import os\n",
    "import numpy as np\n",
    "import librosa\n",
    "import librosa.effects\n",
    "import tensorflow as tf\n",
    "from tensorflow.keras.models import Sequential\n",
    "from tensorflow.keras.layers import Dense, Dropout, BatchNormalization\n",
    "from tensorflow.keras.optimizers.legacy import Adam\n",
    "from tensorflow.keras.callbacks import EarlyStopping\n",
    "from tensorflow.keras import mixed_precision\n",
    "\n",
    "from sklearn.model_selection import train_test_split\n",
    "from sklearn.preprocessing import LabelEncoder\n",
    "from sklearn.metrics import classification_report, confusion_matrix\n",
    "\n",
    "import matplotlib.pyplot as plt\n",
    "from tqdm import tqdm  # For progress bars (pip install tqdm if needed)\n",
    "\n",
    "# Check GPU availability (useful on Apple Silicon or other GPU-enabled environments)\n",
    "gpus = tf.config.list_physical_devices('GPU')\n",
    "if gpus:\n",
    "    try:\n",
    "        tf.config.experimental.set_memory_growth(gpus[0], True)\n",
    "        print(\"GPU Enabled\")\n",
    "    except RuntimeError as e:\n",
    "        print(e)\n",
    "else:\n",
    "    print(\"No GPU found, using CPU.\")\n",
    "\n",
    "# (Optional) Mixed Precision\n",
    "try:\n",
    "    policy = mixed_precision.Policy('mixed_float16')\n",
    "    mixed_precision.set_global_policy(policy)\n",
    "    print(\"Mixed Precision set to FP16\")\n",
    "except:\n",
    "    print(\"mixed_float16 not supported, falling back to float32.\")\n",
    "    policy = mixed_precision.Policy('float32')\n",
    "    mixed_precision.set_global_policy(policy)"
   ]
  },
  {
   "cell_type": "code",
   "execution_count": 3,
   "id": "cbb396b7-2391-4b03-bd99-783568162c1a",
   "metadata": {},
   "outputs": [],
   "source": [
    "# Suppose the dataset root folder is:\n",
    "# UA_Speech/\n",
    "#    HIGH/\n",
    "#    LOW/\n",
    "#    MEDIUM/\n",
    "#    VERY LOW/\n",
    "\n",
    "dataset_root = \"Documents/Kashvi/UA_Speech\"  # Update with the actual path if needed\n",
    "\n",
    "# We'll define severity folder mapping\n",
    "severity_folders = {\n",
    "    \"VERY LOW\": 0,\n",
    "    \"LOW\": 1,\n",
    "    \"MEDIUM\": 2,\n",
    "    \"HIGH\": 3\n",
    "}"
   ]
  },
  {
   "cell_type": "code",
   "execution_count": 4,
   "id": "94bd92cc-78d6-49c0-bef1-26bb1fc66339",
   "metadata": {},
   "outputs": [],
   "source": [
    "# Audio & Feature Extraction\n",
    "SAMPLE_RATE = 44100\n",
    "N_MFCC = 13\n",
    "\n",
    "# Adjust these if needed\n",
    "TIME_STRETCH_PROB = 0.3\n",
    "PITCH_SHIFT_PROB = 0.3\n",
    "NOISE_PROB = 0.3"
   ]
  },
  {
   "cell_type": "code",
   "execution_count": 5,
   "id": "20d45411-ef27-4d55-9152-3deb2366e053",
   "metadata": {},
   "outputs": [],
   "source": [
    "def extract_features(file_path):\n",
    "    \"\"\"\n",
    "    Extracts MFCC and Mel Spectrogram features from an audio file.\n",
    "    Includes optional (mild) data augmentation.\n",
    "    \"\"\"\n",
    "    y, sr = librosa.load(file_path, sr=SAMPLE_RATE)\n",
    "    \n",
    "    # (a) Random Time Stretching\n",
    "    if np.random.rand() < TIME_STRETCH_PROB:\n",
    "        rate = np.random.uniform(0.9, 1.1)\n",
    "        y = librosa.effects.time_stretch(y, rate=rate)\n",
    "    \n",
    "    # (b) Random Pitch Shift\n",
    "    if np.random.rand() < PITCH_SHIFT_PROB:\n",
    "        semitones = np.random.uniform(-1, 1)\n",
    "        y = librosa.effects.pitch_shift(y, sr=sr, n_steps=semitones)\n",
    "    \n",
    "    # (c) Random Noise Injection\n",
    "    if np.random.rand() < NOISE_PROB:\n",
    "        noise = np.random.normal(0, 0.003, y.shape)\n",
    "        y = y + noise\n",
    "\n",
    "    # MFCC\n",
    "    mfccs = librosa.feature.mfcc(y=y, sr=sr, n_mfcc=N_MFCC)\n",
    "    # Mel Spectrogram\n",
    "    mel = librosa.feature.melspectrogram(y=y, sr=sr)\n",
    "    mel_db = librosa.power_to_db(mel, ref=np.max)\n",
    "    \n",
    "    mfcc_mean = np.mean(mfccs, axis=1)\n",
    "    mel_mean = np.mean(mel_db, axis=1)\n",
    "    \n",
    "    features = np.hstack((mfcc_mean, mel_mean)).astype(np.float32)\n",
    "    return features"
   ]
  },
  {
   "cell_type": "code",
   "execution_count": 6,
   "id": "e0eba2b9-90ff-49d9-a663-1b12952a966d",
   "metadata": {},
   "outputs": [],
   "source": [
    "def collect_data_from_folders(root_path, folder_mapping):\n",
    "    \"\"\"\n",
    "    Scans each folder in `folder_mapping` and loads .wav files.\n",
    "    Returns features (X) and labels (y).\n",
    "    folder_mapping is a dict like {\"VERY LOW\": 0, \"LOW\": 1, \"MEDIUM\": 2, \"HIGH\": 3}.\n",
    "    \"\"\"\n",
    "    X_list = []\n",
    "    y_list = []\n",
    "    \n",
    "    for folder_name, label_value in folder_mapping.items():\n",
    "        folder_path = os.path.join(root_path, folder_name)\n",
    "        if not os.path.exists(folder_path):\n",
    "            print(f\"Warning: {folder_path} does not exist. Skipping.\")\n",
    "            continue\n",
    "        \n",
    "        # Gather all wav files\n",
    "        wav_files = [\n",
    "            f for f in os.listdir(folder_path) \n",
    "            if f.endswith(\".wav\")\n",
    "        ]\n",
    "        print(f\"Found {len(wav_files)} wav files in {folder_name} folder.\")\n",
    "        \n",
    "        for wav_file in tqdm(wav_files, desc=f\"Processing {folder_name}\"):\n",
    "            file_path = os.path.join(folder_path, wav_file)\n",
    "            feats = extract_features(file_path)\n",
    "            X_list.append(feats)\n",
    "            y_list.append(label_value)\n",
    "    \n",
    "    return np.array(X_list), np.array(y_list)"
   ]
  },
  {
   "cell_type": "code",
   "execution_count": 7,
   "id": "3cdc434a-9ce6-4f8d-a949-e8722f5c912d",
   "metadata": {},
   "outputs": [
    {
     "name": "stdout",
     "output_type": "stream",
     "text": [
      "Found 3825 wav files in VERY LOW folder.\n"
     ]
    },
    {
     "name": "stderr",
     "output_type": "stream",
     "text": [
      "Processing VERY LOW: 100%|██████████████████| 3825/3825 [02:08<00:00, 29.84it/s]\n"
     ]
    },
    {
     "name": "stdout",
     "output_type": "stream",
     "text": [
      "Found 2281 wav files in LOW folder.\n"
     ]
    },
    {
     "name": "stderr",
     "output_type": "stream",
     "text": [
      "Processing LOW: 100%|███████████████████████| 2281/2281 [01:37<00:00, 23.37it/s]\n"
     ]
    },
    {
     "name": "stdout",
     "output_type": "stream",
     "text": [
      "Found 2295 wav files in MEDIUM folder.\n"
     ]
    },
    {
     "name": "stderr",
     "output_type": "stream",
     "text": [
      "Processing MEDIUM: 100%|████████████████████| 2295/2295 [01:46<00:00, 21.57it/s]\n"
     ]
    },
    {
     "name": "stdout",
     "output_type": "stream",
     "text": [
      "Found 3036 wav files in HIGH folder.\n"
     ]
    },
    {
     "name": "stderr",
     "output_type": "stream",
     "text": [
      "Processing HIGH: 100%|██████████████████████| 3036/3036 [02:54<00:00, 17.40it/s]\n"
     ]
    },
    {
     "name": "stdout",
     "output_type": "stream",
     "text": [
      "\n",
      "Total samples: 11437\n"
     ]
    }
   ],
   "source": [
    "# Collect data\n",
    "X, y = collect_data_from_folders(dataset_root, severity_folders)\n",
    "\n",
    "if len(X) == 0:\n",
    "    raise ValueError(\"No data found. Check your dataset path and folder structure.\")\n",
    "\n",
    "print(f\"\\nTotal samples: {len(X)}\")\n",
    "\n",
    "# Train/test split\n",
    "X_train, X_test, y_train, y_test = train_test_split(\n",
    "    X, y, test_size=0.2, random_state=42, stratify=y\n",
    ")\n",
    "\n",
    "# Normalize by training set max\n",
    "train_max = np.max(X_train)\n",
    "X_train = X_train / train_max\n",
    "X_test = X_test / train_max\n",
    "\n",
    "# Build tf.data pipeline\n",
    "batch_size = 32\n",
    "train_dataset = tf.data.Dataset.from_tensor_slices((X_train, y_train)).batch(batch_size).prefetch(tf.data.AUTOTUNE)\n",
    "test_dataset = tf.data.Dataset.from_tensor_slices((X_test, y_test)).batch(batch_size).prefetch(tf.data.AUTOTUNE)"
   ]
  },
  {
   "cell_type": "code",
   "execution_count": 11,
   "id": "384177fa-8c0c-42a0-a87c-24ee76306822",
   "metadata": {},
   "outputs": [
    {
     "name": "stdout",
     "output_type": "stream",
     "text": [
      "Model: \"sequential_1\"\n",
      "_________________________________________________________________\n",
      " Layer (type)                Output Shape              Param #   \n",
      "=================================================================\n",
      " dense_4 (Dense)             (None, 256)               36352     \n",
      "                                                                 \n",
      " batch_normalization_3 (Batc  (None, 256)              1024      \n",
      " hNormalization)                                                 \n",
      "                                                                 \n",
      " dropout_3 (Dropout)         (None, 256)               0         \n",
      "                                                                 \n",
      " dense_5 (Dense)             (None, 128)               32896     \n",
      "                                                                 \n",
      " batch_normalization_4 (Batc  (None, 128)              512       \n",
      " hNormalization)                                                 \n",
      "                                                                 \n",
      " dropout_4 (Dropout)         (None, 128)               0         \n",
      "                                                                 \n",
      " dense_6 (Dense)             (None, 64)                8256      \n",
      "                                                                 \n",
      " batch_normalization_5 (Batc  (None, 64)               256       \n",
      " hNormalization)                                                 \n",
      "                                                                 \n",
      " dropout_5 (Dropout)         (None, 64)                0         \n",
      "                                                                 \n",
      " dense_7 (Dense)             (None, 4)                 260       \n",
      "                                                                 \n",
      "=================================================================\n",
      "Total params: 79,556\n",
      "Trainable params: 78,660\n",
      "Non-trainable params: 896\n",
      "_________________________________________________________________\n"
     ]
    }
   ],
   "source": [
    "model = Sequential([\n",
    "    Dense(256, activation='relu', input_shape=(X_train.shape[1],)),\n",
    "    BatchNormalization(),\n",
    "    Dropout(0.3),\n",
    "\n",
    "    Dense(128, activation='relu'),\n",
    "    BatchNormalization(),\n",
    "    Dropout(0.2),\n",
    "\n",
    "    Dense(64, activation='relu'),\n",
    "    BatchNormalization(),\n",
    "    Dropout(0.2),\n",
    "\n",
    "    # Output for 4 classes\n",
    "    Dense(4, activation='softmax', dtype=tf.float32)\n",
    "])\n",
    "\n",
    "model.compile(\n",
    "    optimizer=Adam(learning_rate=0.0001),\n",
    "    loss='sparse_categorical_crossentropy',\n",
    "    metrics=['accuracy']\n",
    ")\n",
    "\n",
    "model.summary()"
   ]
  },
  {
   "cell_type": "code",
   "execution_count": 12,
   "id": "8edcbc6e-228e-41c0-bdbd-4e18da336fc9",
   "metadata": {},
   "outputs": [
    {
     "name": "stdout",
     "output_type": "stream",
     "text": [
      "Epoch 1/50\n"
     ]
    },
    {
     "name": "stderr",
     "output_type": "stream",
     "text": [
      "2025-04-16 00:08:34.866436: I tensorflow/core/common_runtime/executor.cc:1197] [/device:CPU:0] (DEBUG INFO) Executor start aborting (this does not indicate an error and you can ignore this message): INVALID_ARGUMENT: You must feed a value for placeholder tensor 'Placeholder/_1' with dtype int64 and shape [9149]\n",
      "\t [[{{node Placeholder/_1}}]]\n"
     ]
    },
    {
     "name": "stdout",
     "output_type": "stream",
     "text": [
      " 35/286 [==>...........................] - ETA: 0s - loss: 1.7695 - accuracy: 0.3152  "
     ]
    },
    {
     "name": "stderr",
     "output_type": "stream",
     "text": [
      "2025-04-16 00:08:35.256184: W tensorflow/tsl/platform/profile_utils/cpu_utils.cc:128] Failed to get CPU frequency: 0 Hz\n"
     ]
    },
    {
     "name": "stdout",
     "output_type": "stream",
     "text": [
      "286/286 [==============================] - 1s 2ms/step - loss: 1.4698 - accuracy: 0.4141 - val_loss: 1.4176 - val_accuracy: 0.2198\n",
      "Epoch 2/50\n",
      " 33/286 [==>...........................] - ETA: 0s - loss: 1.2859 - accuracy: 0.4716"
     ]
    },
    {
     "name": "stderr",
     "output_type": "stream",
     "text": [
      "2025-04-16 00:08:35.819320: I tensorflow/core/common_runtime/executor.cc:1197] [/device:CPU:0] (DEBUG INFO) Executor start aborting (this does not indicate an error and you can ignore this message): INVALID_ARGUMENT: You must feed a value for placeholder tensor 'Placeholder/_1' with dtype int64 and shape [2288]\n",
      "\t [[{{node Placeholder/_1}}]]\n"
     ]
    },
    {
     "name": "stdout",
     "output_type": "stream",
     "text": [
      "286/286 [==============================] - 0s 2ms/step - loss: 1.2109 - accuracy: 0.5135 - val_loss: 1.0247 - val_accuracy: 0.5848\n",
      "Epoch 3/50\n",
      "286/286 [==============================] - 0s 2ms/step - loss: 1.0950 - accuracy: 0.5569 - val_loss: 0.9760 - val_accuracy: 0.5892\n",
      "Epoch 4/50\n",
      "286/286 [==============================] - 0s 2ms/step - loss: 1.0201 - accuracy: 0.5980 - val_loss: 0.8589 - val_accuracy: 0.6630\n",
      "Epoch 5/50\n",
      "286/286 [==============================] - 0s 1ms/step - loss: 0.9504 - accuracy: 0.6232 - val_loss: 0.8713 - val_accuracy: 0.6503\n",
      "Epoch 6/50\n",
      "286/286 [==============================] - 0s 2ms/step - loss: 0.9112 - accuracy: 0.6391 - val_loss: 0.9543 - val_accuracy: 0.6224\n",
      "Epoch 7/50\n",
      "286/286 [==============================] - 0s 2ms/step - loss: 0.8794 - accuracy: 0.6533 - val_loss: 0.8651 - val_accuracy: 0.6298\n",
      "Epoch 8/50\n",
      "286/286 [==============================] - 0s 2ms/step - loss: 0.8396 - accuracy: 0.6694 - val_loss: 0.7739 - val_accuracy: 0.6993\n",
      "Epoch 9/50\n",
      "286/286 [==============================] - 0s 2ms/step - loss: 0.8243 - accuracy: 0.6805 - val_loss: 0.8693 - val_accuracy: 0.6337\n",
      "Epoch 10/50\n",
      "286/286 [==============================] - 0s 2ms/step - loss: 0.7965 - accuracy: 0.6948 - val_loss: 0.6897 - val_accuracy: 0.7365\n",
      "Epoch 11/50\n",
      "286/286 [==============================] - 0s 2ms/step - loss: 0.7773 - accuracy: 0.7005 - val_loss: 0.7165 - val_accuracy: 0.7238\n",
      "Epoch 12/50\n",
      "286/286 [==============================] - 0s 2ms/step - loss: 0.7651 - accuracy: 0.7078 - val_loss: 1.0103 - val_accuracy: 0.5743\n",
      "Epoch 13/50\n",
      "286/286 [==============================] - 0s 2ms/step - loss: 0.7635 - accuracy: 0.7023 - val_loss: 0.6742 - val_accuracy: 0.7399\n",
      "Epoch 14/50\n",
      "286/286 [==============================] - 0s 2ms/step - loss: 0.7414 - accuracy: 0.7116 - val_loss: 0.6622 - val_accuracy: 0.7614\n",
      "Epoch 15/50\n",
      "286/286 [==============================] - 0s 2ms/step - loss: 0.7177 - accuracy: 0.7239 - val_loss: 0.8918 - val_accuracy: 0.6359\n",
      "Epoch 16/50\n",
      "286/286 [==============================] - 0s 1ms/step - loss: 0.7283 - accuracy: 0.7216 - val_loss: 0.6219 - val_accuracy: 0.7627\n",
      "Epoch 17/50\n",
      "286/286 [==============================] - 0s 2ms/step - loss: 0.7050 - accuracy: 0.7307 - val_loss: 0.5741 - val_accuracy: 0.7928\n",
      "Epoch 18/50\n",
      "286/286 [==============================] - 0s 2ms/step - loss: 0.7007 - accuracy: 0.7351 - val_loss: 0.6768 - val_accuracy: 0.7408\n",
      "Epoch 19/50\n",
      "286/286 [==============================] - 0s 1ms/step - loss: 0.7058 - accuracy: 0.7293 - val_loss: 0.8951 - val_accuracy: 0.6224\n",
      "Epoch 20/50\n",
      "286/286 [==============================] - 0s 2ms/step - loss: 0.7104 - accuracy: 0.7283 - val_loss: 0.6340 - val_accuracy: 0.7631\n",
      "Epoch 21/50\n",
      "286/286 [==============================] - 0s 2ms/step - loss: 0.6777 - accuracy: 0.7384 - val_loss: 0.5982 - val_accuracy: 0.7749\n",
      "Epoch 22/50\n",
      "286/286 [==============================] - 0s 2ms/step - loss: 0.6672 - accuracy: 0.7436 - val_loss: 0.6208 - val_accuracy: 0.7753\n"
     ]
    }
   ],
   "source": [
    "early_stopping = EarlyStopping(\n",
    "    monitor='val_loss',\n",
    "    patience=5,\n",
    "    restore_best_weights=True\n",
    ")\n",
    "\n",
    "history = model.fit(\n",
    "    train_dataset,\n",
    "    validation_data=test_dataset,\n",
    "    epochs=50,\n",
    "    callbacks=[early_stopping],\n",
    "    verbose=1\n",
    ")"
   ]
  },
  {
   "cell_type": "code",
   "execution_count": 13,
   "id": "e624c93e-1a48-4b1b-8f41-7851ff40df57",
   "metadata": {},
   "outputs": [
    {
     "name": "stdout",
     "output_type": "stream",
     "text": [
      "72/72 [==============================] - 0s 966us/step - loss: 0.5741 - accuracy: 0.7928\n",
      "Test Accuracy: 79.28%\n"
     ]
    }
   ],
   "source": [
    "model.save(\"speech_severity_classifier.h5\")\n",
    "\n",
    "test_loss, test_accuracy = model.evaluate(test_dataset)\n",
    "print(f\"Test Accuracy: {test_accuracy * 100:.2f}%\")"
   ]
  },
  {
   "cell_type": "code",
   "execution_count": 14,
   "id": "f902ff2b-bbca-4900-a1ef-4438ae99b4cd",
   "metadata": {},
   "outputs": [
    {
     "name": "stdout",
     "output_type": "stream",
     "text": [
      "72/72 [==============================] - 0s 517us/step\n",
      "\n",
      "Classification Report:\n",
      "              precision    recall  f1-score   support\n",
      "\n",
      "           0     0.8285    0.8144    0.8214       765\n",
      "           1     0.7022    0.8224    0.7576       456\n",
      "           2     0.8228    0.7081    0.7611       459\n",
      "           3     0.8089    0.8076    0.8082       608\n",
      "\n",
      "    accuracy                         0.7928      2288\n",
      "   macro avg     0.7906    0.7881    0.7871      2288\n",
      "weighted avg     0.7970    0.7928    0.7931      2288\n",
      "\n",
      "Confusion Matrix:\n",
      " [[623  65  25  52]\n",
      " [ 41 375  13  27]\n",
      " [ 33  64 325  37]\n",
      " [ 55  30  32 491]]\n"
     ]
    }
   ],
   "source": [
    "y_pred = np.argmax(model.predict(X_test), axis=1)\n",
    "\n",
    "print(\"\\nClassification Report:\")\n",
    "print(classification_report(y_test, y_pred, digits=4))\n",
    "\n",
    "conf_mat = confusion_matrix(y_test, y_pred)\n",
    "print(\"Confusion Matrix:\\n\", conf_mat)"
   ]
  },
  {
   "cell_type": "code",
   "execution_count": 15,
   "id": "0ed7b83d-1ac8-41c3-afb5-49d981d2624a",
   "metadata": {},
   "outputs": [
    {
     "data": {
      "image/png": "[encoded data removed]",
      "text/plain": [
       "<Figure size 800x400 with 1 Axes>"
      ]
     },
     "metadata": {},
     "output_type": "display_data"
    }
   ],
   "source": [
    "plt.figure(figsize=(8, 4))\n",
    "plt.plot(history.history['accuracy'], label='Train Accuracy')\n",
    "plt.plot(history.history['val_accuracy'], label='Validation Accuracy')\n",
    "plt.xlabel(\"Epochs\")\n",
    "plt.ylabel(\"Accuracy\")\n",
    "plt.title(\"Four-Class Severity Classification\")\n",
    "plt.legend()\n",
    "plt.show()"
   ]
  },
  {
   "cell_type": "code",
   "execution_count": null,
   "id": "ee493bfa-b005-4448-ae56-274c6a3469cf",
   "metadata": {},
   "outputs": [],
   "source": []
  }
 ],
 "metadata": {
  "kernelspec": {
   "display_name": "Python 3 (ipykernel)",
   "language": "python",
   "name": "python3"
  },
  "language_info": {
   "codemirror_mode": {
    "name": "ipython",
    "version": 3
   },
   "file_extension": ".py",
   "mimetype": "text/x-python",
   "name": "python",
   "nbconvert_exporter": "python",
   "pygments_lexer": "ipython3",
   "version": "3.8.18"
  }
 },
 "nbformat": 4,
 "nbformat_minor": 5
}
